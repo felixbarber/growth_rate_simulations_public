{
 "cells": [
  {
   "cell_type": "code",
   "execution_count": 1,
   "metadata": {
    "collapsed": false
   },
   "outputs": [
    {
     "name": "stderr",
     "output_type": "stream",
     "text": [
      "/home/felix/anaconda2/lib/python2.7/site-packages/matplotlib/__init__.py:1405: UserWarning: \n",
      "This call to matplotlib.use() has no effect because the backend has already\n",
      "been chosen; matplotlib.use() must be called *before* pylab, matplotlib.pyplot,\n",
      "or matplotlib.backends is imported for the first time.\n",
      "\n",
      "  warnings.warn(_use_error_msg)\n"
     ]
    }
   ],
   "source": [
    "import numpy as np\n",
    "import scipy\n",
    "import scipy.stats\n",
    "import matplotlib.pyplot as plt\n",
    "import growth_simulations as g\n",
    "import weakref\n",
    "import scipy.optimize"
   ]
  },
  {
   "cell_type": "code",
   "execution_count": 2,
   "metadata": {
    "collapsed": true
   },
   "outputs": [],
   "source": [
    "%load_ext autoreload "
   ]
  },
  {
   "cell_type": "code",
   "execution_count": 3,
   "metadata": {
    "collapsed": true
   },
   "outputs": [],
   "source": [
    "%autoreload 2"
   ]
  },
  {
   "cell_type": "code",
   "execution_count": 13,
   "metadata": {
    "collapsed": false
   },
   "outputs": [],
   "source": [
    "td = [1.858, 3.353]\n",
    "td_std = [0.4727, 0.9214]\n",
    "# td = [1.0, 1.0]\n",
    "# td_std = [0.1, 0.1]\n",
    "\n",
    "# this script uses a simple adder model\n",
    "\n",
    "td = [1.858, 3.353]\n",
    "td_std = [0.4727, 0.9214]\n",
    "# td = [1.0, 1.0]\n",
    "# td_std = [0.1, 0.1]\n",
    "\n",
    "# this script uses a simple adder model\n",
    "\n",
    "\n",
    "par1 = {'nstep': 1000, 'dt':0.01, 'td': td, 'td_std': td_std, 'v_init':1.0, 'modeltype':1, 'delta':1.0, 'lambda_std':0.2}\n",
    "par1['lambda'] = scipy.optimize.fsolve(g.fn_1, x0=np.log(2.0) / np.mean(td), args=(par1['td'][0], par1['td'][1]))[0]\n",
    "temp = 0.5/(np.exp(par1['lambda']*par1['td'][1])-1)\n",
    "# par1['r'] = 1.0\n",
    "par1['r'] = temp/(1-temp)"
   ]
  },
  {
   "cell_type": "code",
   "execution_count": 14,
   "metadata": {
    "collapsed": false
   },
   "outputs": [],
   "source": [
    "init_pop = g.starting_popn(par1)\n",
    "c,obs = g.discr_time_1(par1, init_pop)"
   ]
  },
  {
   "cell_type": "code",
   "execution_count": 15,
   "metadata": {
    "collapsed": true
   },
   "outputs": [],
   "source": [
    "t1 = scipy.stats.zscore(np.asarray([obj.t_grow for obj in c[10**4:-1] if obj.celltype == 0]))\n",
    "t2 = scipy.stats.zscore(np.asarray([obj.parent.t_grow for obj in c[10**4:-1] if obj.celltype == 0]))\n",
    "\n",
    "t3 = scipy.stats.zscore(np.asarray([obj.t_grow for obj in c[10**4:-1] if obj.celltype == 1]))\n",
    "t4 = scipy.stats.zscore(np.asarray([obj.parent_current.t_grow for obj in c[10**4:-1] if obj.celltype == 1]))\n",
    "\n",
    "t5 = scipy.stats.zscore(np.asarray([obj.t_grow for obj in c[10 ** 4:-1] if obj.celltype == 1]))\n",
    "t6 = scipy.stats.zscore(\n",
    "    np.asarray([obj.parent.t_grow for obj in c[10 ** 4:-1] if obj.celltype == 1]))\n",
    "\n",
    "temp2 = []\n",
    "temp2.append(scipy.stats.linregress(t2, t1))\n",
    "temp2.append(scipy.stats.linregress(t4, t3))\n",
    "temp2.append(scipy.stats.linregress(t6, t5))"
   ]
  },
  {
   "cell_type": "code",
   "execution_count": 16,
   "metadata": {
    "collapsed": false
   },
   "outputs": [
    {
     "name": "stdout",
     "output_type": "stream",
     "text": [
      "[0.022189621413489232, 0.39466161843563291, 0.030788551734458314]\n"
     ]
    }
   ],
   "source": [
    "print [obj[2] for obj in temp2]"
   ]
  },
  {
   "cell_type": "code",
   "execution_count": 12,
   "metadata": {
    "collapsed": false
   },
   "outputs": [
    {
     "name": "stdout",
     "output_type": "stream",
     "text": [
      "[-0.28128221726346997, 0.25729672939463988, -0.22079199497579216]\n"
     ]
    }
   ],
   "source": [
    "print [obj[2] for obj in temp2]"
   ]
  },
  {
   "cell_type": "code",
   "execution_count": null,
   "metadata": {
    "collapsed": true
   },
   "outputs": [],
   "source": []
  }
 ],
 "metadata": {
  "kernelspec": {
   "display_name": "Python [conda root]",
   "language": "python",
   "name": "conda-root-py"
  },
  "language_info": {
   "codemirror_mode": {
    "name": "ipython",
    "version": 2
   },
   "file_extension": ".py",
   "mimetype": "text/x-python",
   "name": "python",
   "nbconvert_exporter": "python",
   "pygments_lexer": "ipython2",
   "version": "2.7.13"
  }
 },
 "nbformat": 4,
 "nbformat_minor": 2
}
