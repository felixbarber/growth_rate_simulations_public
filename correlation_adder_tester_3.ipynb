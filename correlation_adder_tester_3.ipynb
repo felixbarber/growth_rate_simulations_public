{
 "cells": [
  {
   "cell_type": "code",
   "execution_count": 25,
   "metadata": {
    "collapsed": false
   },
   "outputs": [],
   "source": [
    "import numpy as np\n",
    "import scipy\n",
    "import scipy.stats\n",
    "import matplotlib.pyplot as plt\n",
    "import growth_simulations as g\n",
    "import weakref\n",
    "import scipy.optimize"
   ]
  },
  {
   "cell_type": "code",
   "execution_count": 2,
   "metadata": {
    "collapsed": true
   },
   "outputs": [],
   "source": [
    "%load_ext autoreload "
   ]
  },
  {
   "cell_type": "code",
   "execution_count": 3,
   "metadata": {
    "collapsed": true
   },
   "outputs": [],
   "source": [
    "%autoreload 2"
   ]
  },
  {
   "cell_type": "code",
   "execution_count": 61,
   "metadata": {
    "collapsed": true
   },
   "outputs": [],
   "source": [
    "td = [1.858, 3.353]\n",
    "td_std = [0.01, 1.5]\n",
    "# td = [1.0, 1.0]\n",
    "# td_std = [0.1, 0.1]\n",
    "\n",
    "# this script uses a simple adder model\n",
    "\n",
    "par1 = {'nstep': 1000, 'dt':0.01, 'td': td, 'td_std': td_std, 'v_init':1.0, 'modeltype':1, 'delta':1.0, \n",
    "        'lambda_std':None}\n",
    "# par1['lambda'] = scipy.optimize.fsolve(g.fn_1, x0=np.log(2.0) / np.mean(td), args=(par1['td'][0], par1['td'][1]))[0]\n",
    "# temp = 0.5/(np.exp(par1['lambda']*par1['td'][1])-1)\n",
    "# par1['r'] = temp/(1-temp)\n",
    "par1['r']=1.0\n",
    "par1['lambda']=1.0"
   ]
  },
  {
   "cell_type": "code",
   "execution_count": 74,
   "metadata": {
    "collapsed": true
   },
   "outputs": [],
   "source": [
    "td_std = [0.174, 0.174]\n",
    "par1['td_std'] = td_std\n",
    "init_pop = g.starting_popn(par1)\n",
    "c,obs = g.discr_time_1(par1, init_pop)"
   ]
  },
  {
   "cell_type": "code",
   "execution_count": 75,
   "metadata": {
    "collapsed": false
   },
   "outputs": [
    {
     "name": "stdout",
     "output_type": "stream",
     "text": [
      "0.712666275811\n"
     ]
    }
   ],
   "source": [
    "print np.mean([obj.t_grow for obj in c[10**4:]])"
   ]
  },
  {
   "cell_type": "code",
   "execution_count": 76,
   "metadata": {
    "collapsed": false
   },
   "outputs": [
    {
     "data": {
      "text/plain": [
       "-0.0020600782505542092"
      ]
     },
     "execution_count": 76,
     "metadata": {},
     "output_type": "execute_result"
    }
   ],
   "source": [
    "temp1 = scipy.stats.linregress(obs[1][400:], np.log(obs[4][400:]))\n",
    "temp2 = scipy.stats.linregress(obs[1][400:], np.log(obs[7][400:]))  #noise in daughters\n",
    "(temp2[0]-par1['lambda'])/par1['lambda']*100.0"
   ]
  },
  {
   "cell_type": "code",
   "execution_count": 65,
   "metadata": {
    "collapsed": false
   },
   "outputs": [],
   "source": [
    "td_std = [0.15, 0.15]\n",
    "par1['td_std'] = td_std\n",
    "init_pop = g.starting_popn(par1)\n",
    "c,obs = g.discr_time_1(par1, init_pop)"
   ]
  },
  {
   "cell_type": "code",
   "execution_count": 66,
   "metadata": {
    "collapsed": false
   },
   "outputs": [
    {
     "name": "stdout",
     "output_type": "stream",
     "text": [
      "0.710109174722\n"
     ]
    }
   ],
   "source": [
    "print np.mean([obj.t_grow for obj in c[10**4:]])"
   ]
  },
  {
   "cell_type": "code",
   "execution_count": 67,
   "metadata": {
    "collapsed": false
   },
   "outputs": [
    {
     "data": {
      "text/plain": [
       "-0.00012354871368192022"
      ]
     },
     "execution_count": 67,
     "metadata": {},
     "output_type": "execute_result"
    }
   ],
   "source": [
    "temp1 = scipy.stats.linregress(obs[1][400:], np.log(obs[4][400:]))\n",
    "temp2 = scipy.stats.linregress(obs[1][400:], np.log(obs[7][400:]))  #noise in daughters\n",
    "(temp2[0]-par1['lambda'])/par1['lambda']*100.0"
   ]
  },
  {
   "cell_type": "code",
   "execution_count": 17,
   "metadata": {
    "collapsed": true
   },
   "outputs": [],
   "source": [
    "td_std = [0.01, 0.01]\n",
    "par1['td_std'] = td_std\n",
    "init_pop1 = g.starting_popn(par1)\n",
    "c1,obs1 = g.discr_time_1(par1, init_pop1)"
   ]
  },
  {
   "cell_type": "code",
   "execution_count": 18,
   "metadata": {
    "collapsed": false
   },
   "outputs": [
    {
     "name": "stdout",
     "output_type": "stream",
     "text": [
      "-0.00162488668101\n"
     ]
    }
   ],
   "source": [
    "temp3 = scipy.stats.linregress(obs1[1][400:], np.log(obs1[4][400:]))\n",
    "temp4 = scipy.stats.linregress(obs1[1][400:], np.log(obs1[7][400:]))  #no noise\n",
    "print (temp4[0]-par1['lambda'])/par1['lambda']*100.0"
   ]
  },
  {
   "cell_type": "code",
   "execution_count": null,
   "metadata": {
    "collapsed": true
   },
   "outputs": [],
   "source": [
    "td_std = [0.9, 0.9]\n",
    "par1['td_std'] = td_std\n",
    "init_pop2 = g.starting_popn(par1)\n",
    "c2,obs2 = g.discr_time_1(par1, init_pop2)"
   ]
  },
  {
   "cell_type": "code",
   "execution_count": null,
   "metadata": {
    "collapsed": false
   },
   "outputs": [],
   "source": [
    "\n",
    "\n",
    "temp5 = scipy.stats.linregress(obs2[1][400:], np.log(obs2[4][400:]))\n",
    "temp6 = scipy.stats.linregress(obs2[1][400:], np.log(obs2[7][400:]))  # noise in mothers\n",
    "print temp2[0], temp4[0], 'noiseless'\n",
    "print temp1[0], temp3[0], 'noisy'\n",
    "print , (temp2[0]-par1['lambda'])/par1['lambda']*100.0, (temp6[0]-par1['lambda'])/par1['lambda']*100.0"
   ]
  },
  {
   "cell_type": "code",
   "execution_count": 8,
   "metadata": {
    "collapsed": false
   },
   "outputs": [
    {
     "name": "stdout",
     "output_type": "stream",
     "text": [
      "2.38255671856\n"
     ]
    }
   ],
   "source": [
    "print np.log(2)/par1['lambda']"
   ]
  },
  {
   "cell_type": "code",
   "execution_count": null,
   "metadata": {
    "collapsed": true
   },
   "outputs": [],
   "source": []
  }
 ],
 "metadata": {
  "kernelspec": {
   "display_name": "Python [conda root]",
   "language": "python",
   "name": "conda-root-py"
  },
  "language_info": {
   "codemirror_mode": {
    "name": "ipython",
    "version": 2
   },
   "file_extension": ".py",
   "mimetype": "text/x-python",
   "name": "python",
   "nbconvert_exporter": "python",
   "pygments_lexer": "ipython2",
   "version": "2.7.13"
  }
 },
 "nbformat": 4,
 "nbformat_minor": 2
}
