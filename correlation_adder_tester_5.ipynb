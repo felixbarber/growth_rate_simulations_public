{
 "cells": [
  {
   "cell_type": "code",
   "execution_count": 1,
   "metadata": {
    "collapsed": false
   },
   "outputs": [
    {
     "name": "stderr",
     "output_type": "stream",
     "text": [
      "/home/felix/anaconda2/lib/python2.7/site-packages/matplotlib/__init__.py:1405: UserWarning: \n",
      "This call to matplotlib.use() has no effect because the backend has already\n",
      "been chosen; matplotlib.use() must be called *before* pylab, matplotlib.pyplot,\n",
      "or matplotlib.backends is imported for the first time.\n",
      "\n",
      "  warnings.warn(_use_error_msg)\n"
     ]
    }
   ],
   "source": [
    "import numpy as np\n",
    "import scipy\n",
    "import scipy.stats\n",
    "import matplotlib.pyplot as plt\n",
    "import growth_simulations as g\n",
    "import weakref\n",
    "import scipy.optimize"
   ]
  },
  {
   "cell_type": "code",
   "execution_count": 2,
   "metadata": {
    "collapsed": true
   },
   "outputs": [],
   "source": [
    "%load_ext autoreload "
   ]
  },
  {
   "cell_type": "code",
   "execution_count": 3,
   "metadata": {
    "collapsed": true
   },
   "outputs": [],
   "source": [
    "%autoreload 2"
   ]
  },
  {
   "cell_type": "code",
   "execution_count": 11,
   "metadata": {
    "collapsed": true
   },
   "outputs": [],
   "source": [
    "td = [np.log(2), np.log(2)]\n",
    "td_std = [0.15, 0.15]\n",
    "# td = [1.0, 1.0]\n",
    "# td_std = [0.1, 0.1]\n",
    "\n",
    "# this script uses a simple adder model\n",
    "\n",
    "par1 = {'nstep': 1000, 'dt':0.01, 'td': td, 'td_std': td_std, 'v_init':1.0, 'modeltype':1, 'delta':1.0, \n",
    "        'lambda_std':None}\n",
    "# par1['lambda'] = scipy.optimize.fsolve(g.fn_1, x0=np.log(2.0) / np.mean(td), args=(par1['td'][0], par1['td'][1]))[0]\n",
    "# temp = 0.5/(np.exp(par1['lambda']*par1['td'][1])-1)\n",
    "# par1['r'] = temp/(1-temp)\n",
    "par1['r']=0.5\n",
    "par1['lambda']=1.0"
   ]
  },
  {
   "cell_type": "code",
   "execution_count": 12,
   "metadata": {
    "collapsed": true
   },
   "outputs": [],
   "source": [
    "init_pop = g.starting_popn(par1)\n",
    "c,obs = g.discr_time_1(par1, init_pop)"
   ]
  },
  {
   "cell_type": "code",
   "execution_count": 13,
   "metadata": {
    "collapsed": false
   },
   "outputs": [
    {
     "name": "stdout",
     "output_type": "stream",
     "text": [
      "0.999913401763\n"
     ]
    }
   ],
   "source": [
    "temp2 = scipy.stats.linregress(obs[1][400:], np.log(obs[7][400:]))\n",
    "print temp2[0]"
   ]
  },
  {
   "cell_type": "code",
   "execution_count": 7,
   "metadata": {
    "collapsed": false
   },
   "outputs": [
    {
     "name": "stdout",
     "output_type": "stream",
     "text": [
      "celltype = 0\n",
      "0.102713945227 parent child\n",
      "celltype = 1\n",
      "0.109175927417 parent child\n",
      "0.134166006458 mother daughter same generation\n",
      "0.102713945227 mother daughter diff generation\n"
     ]
    }
   ],
   "source": [
    "for i0 in range(2):\n",
    "    print 'celltype =', i0\n",
    "    temp1 = [obj.t_grow for obj in c[10**4:] if obj.celltype==i0]\n",
    "    temp2 = [obj.parent.t_grow for obj in c[10**4:] if obj.celltype==i0]\n",
    "    vals = scipy.stats.linregress(temp1, temp2)\n",
    "    print vals[2]*np.absolute(vals[2]), 'parent child'\n",
    "    if i0==1:\n",
    "        temp3 = [obj.parent_current.t_grow for obj in c[10**4:] if obj.celltype == i0]\n",
    "        vals = scipy.stats.linregress(temp1, temp3)\n",
    "        print vals[2]*np.absolute(vals[2]), 'mother daughter same generation'\n",
    "        vals = scipy.stats.linregress(temp2, temp3)\n",
    "        print vals[2]*np.absolute(vals[2]), 'mother daughter diff generation'"
   ]
  },
  {
   "cell_type": "code",
   "execution_count": 77,
   "metadata": {
    "collapsed": true
   },
   "outputs": [],
   "source": [
    "td = [1.858, 3.353]\n",
    "# td_std = [0.4727, 0.9214]\n",
    "# td = [1.0, 1.0]\n",
    "td_std = [0.001, 0.001]\n",
    "\n",
    "# this script uses a simple adder model\n",
    "\n",
    "\n",
    "par1 = {'nstep': 1000, 'dt':0.01, 'td': td, 'td_std': td_std, 'v_init':1.0, 'modeltype':1, 'delta':1.0, \n",
    "        'lambda_std':0.2}\n",
    "\n",
    "# defining r and lambda to approximate the same average division times for daughters and mothers.\n",
    "\n",
    "par1['lambda'] = scipy.optimize.fsolve(g.fn_1, x0=np.log(2.0) / np.mean(td), args=(par1['td'][0], par1['td'][1]))[0]\n",
    "temp = 0.5/(np.exp(par1['lambda']*par1['td'][1])-1)\n",
    "par1['r'] = temp/(1-temp)\n",
    "# par1['r'] = 0.6\n",
    "# par1['lambda'] = 1.0"
   ]
  },
  {
   "cell_type": "code",
   "execution_count": 78,
   "metadata": {
    "collapsed": true
   },
   "outputs": [],
   "source": [
    "init_pop = g.starting_popn(par1)\n",
    "c,obs = g.discr_time_1(par1, init_pop)"
   ]
  },
  {
   "cell_type": "code",
   "execution_count": 79,
   "metadata": {
    "collapsed": false
   },
   "outputs": [
    {
     "name": "stdout",
     "output_type": "stream",
     "text": [
      "0.972047886052\n",
      "0.972370898401\n"
     ]
    }
   ],
   "source": [
    "temp2 = scipy.stats.linregress(obs[1][400:], np.log(obs[7][400:]))\n",
    "print temp2[0]/par1['lambda']\n",
    "temp2 = scipy.stats.linregress(obs[1][400:], np.log(obs[4][400:]))\n",
    "print temp2[0]/par1['lambda']"
   ]
  },
  {
   "cell_type": "code",
   "execution_count": 22,
   "metadata": {
    "collapsed": false
   },
   "outputs": [
    {
     "name": "stdout",
     "output_type": "stream",
     "text": [
      "0.903258027613\n"
     ]
    }
   ],
   "source": [
    "temp2 = scipy.stats.linregress(obs[1][400:], np.log(obs[7][400:]))\n",
    "print temp2[0]/par1['lambda']"
   ]
  },
  {
   "cell_type": "code",
   "execution_count": 76,
   "metadata": {
    "collapsed": false
   },
   "outputs": [
    {
     "name": "stdout",
     "output_type": "stream",
     "text": [
      "celltype = 0\n",
      "1.9357189171\n",
      "0.0100091144743 parent child 0.100045561992\n",
      "celltype = 1\n",
      "3.46974048927\n",
      "0.00776618564654 parent child 0.088125964656\n",
      "0.117158704376 mother daughter same generation 0.342284537156\n",
      "0.0100091144743 mother daughter diff generation 0.100045561992\n"
     ]
    }
   ],
   "source": [
    "for i0 in range(2):\n",
    "    print 'celltype =', i0\n",
    "    temp1 = [obj.t_grow for obj in c[10**4:] if obj.celltype==i0]\n",
    "    print np.mean(temp1)\n",
    "    temp2 = [obj.parent.t_grow for obj in c[10**4:] if obj.celltype==i0]\n",
    "    vals = scipy.stats.linregress(temp1, temp2)\n",
    "    print vals[2]*np.absolute(vals[2]), 'parent child', scipy.stats.pearsonr(temp1, temp2)[0]\n",
    "    if i0==1:\n",
    "        temp3 = [obj.parent_current.t_grow for obj in c[10**4:] if obj.celltype == i0]\n",
    "        vals = scipy.stats.linregress(temp1, temp3)\n",
    "        print vals[2]*np.absolute(vals[2]), 'mother daughter same generation', scipy.stats.pearsonr(temp1, temp3)[0]\n",
    "        vals = scipy.stats.linregress(temp2, temp3)\n",
    "        print vals[2]*np.absolute(vals[2]), 'mother daughter diff generation', scipy.stats.pearsonr(temp2, temp3)[0]"
   ]
  },
  {
   "cell_type": "code",
   "execution_count": null,
   "metadata": {
    "collapsed": true
   },
   "outputs": [],
   "source": []
  }
 ],
 "metadata": {
  "kernelspec": {
   "display_name": "Python [conda root]",
   "language": "python",
   "name": "conda-root-py"
  },
  "language_info": {
   "codemirror_mode": {
    "name": "ipython",
    "version": 2
   },
   "file_extension": ".py",
   "mimetype": "text/x-python",
   "name": "python",
   "nbconvert_exporter": "python",
   "pygments_lexer": "ipython2",
   "version": "2.7.13"
  }
 },
 "nbformat": 4,
 "nbformat_minor": 2
}
