{
 "cells": [
  {
   "cell_type": "code",
   "execution_count": 80,
   "metadata": {
    "collapsed": false
   },
   "outputs": [],
   "source": [
    "import numpy as np\n",
    "import scipy\n",
    "import scipy.stats\n",
    "import matplotlib.pyplot as plt\n",
    "import growth_simulations as g\n",
    "import weakref\n",
    "import scipy.optimize"
   ]
  },
  {
   "cell_type": "code",
   "execution_count": 81,
   "metadata": {
    "collapsed": false
   },
   "outputs": [
    {
     "name": "stdout",
     "output_type": "stream",
     "text": [
      "The autoreload extension is already loaded. To reload it, use:\n",
      "  %reload_ext autoreload\n"
     ]
    }
   ],
   "source": [
    "%load_ext autoreload "
   ]
  },
  {
   "cell_type": "code",
   "execution_count": 82,
   "metadata": {
    "collapsed": true
   },
   "outputs": [],
   "source": [
    "%autoreload 2"
   ]
  },
  {
   "cell_type": "code",
   "execution_count": 217,
   "metadata": {
    "collapsed": true
   },
   "outputs": [],
   "source": [
    "td = [np.log(2), np.log(2)]\n",
    "td_std = [0.01, 0.01]\n",
    "# td = [1.0, 1.0]\n",
    "# td_std = [0.1, 0.1]\n",
    "\n",
    "# this script uses a simple adder model\n",
    "\n",
    "par1 = {'nstep': 1000, 'dt':0.01, 'td': td, 'td_std': td_std, 'v_init':1.0, 'modeltype':1, 'delta':1.0, \n",
    "        'lambda_std':0.0, 'alpha':0.5}\n",
    "# par1['lambda'] = scipy.optimize.fsolve(g.fn_1, x0=np.log(2.0) / np.mean(td), args=(par1['td'][0], par1['td'][1]))[0]\n",
    "# temp = 0.5/(np.exp(par1['lambda']*par1['td'][1])-1)\n",
    "# par1['r'] = temp/(1-temp)\n",
    "par1['r']=0.5\n",
    "par1['lambda']=1.0"
   ]
  },
  {
   "cell_type": "code",
   "execution_count": 218,
   "metadata": {
    "collapsed": false
   },
   "outputs": [],
   "source": [
    "init_pop = g.starting_popn(par1)\n",
    "c,obs = g.discr_time_1(par1, init_pop)"
   ]
  },
  {
   "cell_type": "code",
   "execution_count": 220,
   "metadata": {
    "collapsed": false
   },
   "outputs": [
    {
     "name": "stdout",
     "output_type": "stream",
     "text": [
      "celltype 0\n",
      "0.990104068285\n",
      "0.980058780533\n",
      "0.100711325695 0.0838660176765\n",
      "0.9605152133 0.9605152133 celltype 1\n",
      "0.990104068285\n",
      "0.98137070013\n",
      "0.100711325695 0.117861966159\n",
      "0.963088451073 0.963088451073 celltype 2\n",
      "0.497510647241\n",
      "0.491714661837\n",
      "0.200427254866 0.201193825014\n",
      "0.241783308665 0.241783308665\n"
     ]
    }
   ],
   "source": [
    "for i0 in range(3):\n",
    "    print 'celltype', i0\n",
    "    if i0 <2:\n",
    "        temp1 = np.asarray([obj.t_grow for obj in c[10**4:] if obj.celltype==i0])\n",
    "        temp2 = np.asarray([obj.parent.t_grow for obj in c[10**4:] if obj.celltype==i0])\n",
    "    else:\n",
    "        temp1 = np.asarray([obj.t_grow for obj in c[10**4:]])\n",
    "        temp2 = np.asarray([obj.parent.t_grow for obj in c[10**4:]])\n",
    "    print fn(par1)/(fn_1(par1, i0)**0.5*fn_1(par1, 2)**0.5)\n",
    "    print scipy.stats.pearsonr(temp1, temp2)[0]\n",
    "    print fn_1(par1, i0)**0.5, np.std(temp1)\n",
    "    temp_val1 = scipy.stats.linregress(temp1, temp2)\n",
    "    temp_val2 = scipy.stats.linregress(scipy.stats.zscore(temp1), scipy.stats.zscore(temp2))\n",
    "    print temp_val1[2]*np.absolute(temp_val1[2]), temp_val2[2]*np.absolute(temp_val2[2]), "
   ]
  },
  {
   "cell_type": "code",
   "execution_count": 165,
   "metadata": {
    "collapsed": false
   },
   "outputs": [],
   "source": [
    "def fn(par1):  # <t_n+1 t_n>_c\n",
    "    return (par1['alpha']*(1-par1['alpha'])*(np.log(par1['r'])/(2*par1['lambda']))**2-par1['alpha']*par1['td_std'][0]**2)/(2-par1['alpha'])\n",
    "def fn_1(par1, celltype):  # sigma_t^2\n",
    "    if celltype ==0 or celltype == 1:\n",
    "        temp = par1['alpha']**2*(mom2_x(par1,2)-av_x(par1, 2)**2)*(1-2*par1['alpha'])/par1['lambda']**2+par1['alpha']**2*fn_1(par1,2)+par1['td_std'][0]**2\n",
    "    elif celltype == 2:\n",
    "        temp = (2*par1['td_std'][0]**2+par1['alpha']*(np.log(par1['r'])/(2*par1['lambda']))**2)/(2-par1['alpha'])\n",
    "    return temp\n",
    "def av_x(par1, celltype):\n",
    "    b=par1['r']/(1+par1['r'])\n",
    "    if celltype==0:\n",
    "        temp = np.log(2*(1-b))+(1-par1['alpha'])*np.log(4*b*(1-b))/(2*par1['alpha'])\n",
    "    if celltype == 1:\n",
    "        temp = np.log(2*b)+(1-par1['alpha'])*np.log(4*b*(1-b))/(2*par1['alpha'])\n",
    "    if celltype == 2:\n",
    "        temp = np.log(4*b*(1-b))/(2*par1['alpha'])\n",
    "    return temp\n",
    "def mom2_x(par1, celltype):\n",
    "    b=par1['r']/(1+par1['r'])\n",
    "    if celltype==0:\n",
    "        temp = np.log(2*(1-b))**2+2*(1-par1['alpha'])*np.log(2*(1-b))*av_x(par1, 2)+mom2_x(par1, 2)*(1-par1['alpha'])**2+(par1['lambda']*par1['td_std'][0])**2\n",
    "    if celltype == 1:\n",
    "        temp = np.log(2*(b))**2+2*(1-par1['alpha'])*np.log(2*(b))*av_x(par1, 2)+mom2_x(par1, 2)*(1-par1['alpha'])**2+(par1['lambda']*par1['td_std'][0])**2\n",
    "    if celltype == 2:\n",
    "        temp = ((par1['lambda']*par1['td_std'][0])**2+(np.log(par1['r'])/2)**2)/(par1['alpha']*(2-par1['alpha']))+av_x(par1, 2)**2\n",
    "    return temp"
   ]
  },
  {
   "cell_type": "code",
   "execution_count": 185,
   "metadata": {
    "collapsed": false
   },
   "outputs": [
    {
     "name": "stdout",
     "output_type": "stream",
     "text": [
      "celltype 0\n",
      "0.450141946968\n",
      "0.401223563482\n",
      "0.225462487641 0.205125305704\n",
      "celltype 1\n",
      "0.450141946968\n",
      "0.467632413136\n",
      "0.225462487641 0.24870577601\n",
      "celltype 2\n",
      "0.301470588235\n",
      "0.292667591725\n",
      "0.336650164612 0.339299590945\n"
     ]
    }
   ],
   "source": [
    "for i0 in range(3):\n",
    "    print 'celltype', i0\n",
    "    if i0 <2:\n",
    "        temp1 = np.asarray([obj.t_grow for obj in c[10**4:] if obj.celltype==i0])\n",
    "        temp2 = np.asarray([obj.parent.t_grow for obj in c[10**4:] if obj.celltype==i0])\n",
    "    else:\n",
    "        temp1 = np.asarray([obj.t_grow for obj in c[10**4:]])\n",
    "        temp2 = np.asarray([obj.parent.t_grow for obj in c[10**4:]])\n",
    "    print fn(par1)/(fn_1(par1, i0)**0.5*fn_1(par1, 2)**0.5)\n",
    "    print scipy.stats.pearsonr(temp1, temp2)[0]\n",
    "    print fn_1(par1, i0)**0.5, np.std(temp1)"
   ]
  },
  {
   "cell_type": "code",
   "execution_count": 188,
   "metadata": {
    "collapsed": false
   },
   "outputs": [
    {
     "name": "stdout",
     "output_type": "stream",
     "text": [
      "celltype 0\n",
      "0.450141946968\n",
      "0.478719133407\n",
      "0.225462487641 0.215222086519\n",
      "celltype 1\n",
      "0.450141946968\n",
      "0.318242548903\n",
      "0.225462487641 0.266668369884\n",
      "celltype 2\n",
      "0.301470588235\n",
      "0.260862588707\n",
      "0.336650164612 0.36014392371\n"
     ]
    }
   ],
   "source": [
    "for i0 in range(3):\n",
    "    print 'celltype', i0\n",
    "    if i0 <2:\n",
    "        temp1 = np.asarray([obj.t_grow for obj in c[10**4:] if obj.celltype==i0])\n",
    "        temp2 = np.asarray([obj.parent.t_grow for obj in c[10**4:] if obj.celltype==i0])\n",
    "    else:\n",
    "        temp1 = np.asarray([obj.t_grow for obj in c[10**4:]])\n",
    "        temp2 = np.asarray([obj.parent.t_grow for obj in c[10**4:]])\n",
    "    print fn(par1)/(fn_1(par1, i0)**0.5*fn_1(par1, 2)**0.5)\n",
    "    print scipy.stats.pearsonr(temp1, temp2)[0]\n",
    "    print fn_1(par1, i0)**0.5, np.std(temp1)"
   ]
  },
  {
   "cell_type": "code",
   "execution_count": 193,
   "metadata": {
    "collapsed": false
   },
   "outputs": [
    {
     "name": "stdout",
     "output_type": "stream",
     "text": [
      "celltype 0\n",
      "0.450141946968\n",
      "0.441275647799\n",
      "0.225462487641 0.224876751851\n",
      "celltype 1\n",
      "0.450141946968\n",
      "0.440218563763\n",
      "0.225462487641 0.224783976497\n",
      "celltype 2\n",
      "0.301470588235\n",
      "0.295086153573\n",
      "0.336650164612 0.335811611692\n"
     ]
    }
   ],
   "source": [
    "for i0 in range(3):\n",
    "    print 'celltype', i0\n",
    "    if i0 <2:\n",
    "        temp1 = np.asarray([obj.t_grow for obj in c[10**4:] if obj.celltype==i0])\n",
    "        temp2 = np.asarray([obj.parent.t_grow for obj in c[10**4:] if obj.celltype==i0])\n",
    "    else:\n",
    "        temp1 = np.asarray([obj.t_grow for obj in c[10**4:]])\n",
    "        temp2 = np.asarray([obj.parent.t_grow for obj in c[10**4:]])\n",
    "    print fn(par1)/(fn_1(par1, i0)**0.5*fn_1(par1, 2)**0.5)\n",
    "    print scipy.stats.pearsonr(temp1, temp2)[0]\n",
    "    print fn_1(par1, i0)**0.5, np.std(temp1)"
   ]
  },
  {
   "cell_type": "code",
   "execution_count": 198,
   "metadata": {
    "collapsed": false
   },
   "outputs": [
    {
     "name": "stdout",
     "output_type": "stream",
     "text": [
      "celltype 0\n",
      "0.450141946968\n",
      "0.240993807778\n",
      "0.225462487641 0.291178759186\n",
      "celltype 1\n",
      "0.450141946968\n",
      "0.240621181102\n",
      "0.225462487641 0.411212380905\n",
      "celltype 2\n",
      "0.301470588235\n",
      "0.190990657577\n",
      "0.336650164612 0.442740730993\n"
     ]
    }
   ],
   "source": [
    "for i0 in range(3):\n",
    "    print 'celltype', i0\n",
    "    if i0 <2:\n",
    "        temp1 = np.asarray([obj.t_grow for obj in c[10**4:] if obj.celltype==i0])\n",
    "        temp2 = np.asarray([obj.parent.t_grow for obj in c[10**4:] if obj.celltype==i0])\n",
    "    else:\n",
    "        temp1 = np.asarray([obj.t_grow for obj in c[10**4:]])\n",
    "        temp2 = np.asarray([obj.parent.t_grow for obj in c[10**4:]])\n",
    "    print fn(par1)/(fn_1(par1, i0)**0.5*fn_1(par1, 2)**0.5)\n",
    "    print scipy.stats.pearsonr(temp1, temp2)[0]\n",
    "    print fn_1(par1, i0)**0.5, np.std(temp1)"
   ]
  },
  {
   "cell_type": "code",
   "execution_count": 201,
   "metadata": {
    "collapsed": false
   },
   "outputs": [
    {
     "name": "stdout",
     "output_type": "stream",
     "text": [
      "celltype 0\n",
      "0.450141946968\n",
      "0.297336684442\n",
      "0.225462487641 0.298282714693\n",
      "celltype 1\n",
      "0.450141946968\n",
      "0.153596463161\n",
      "0.225462487641 0.436373844647\n",
      "celltype 2\n",
      "0.301470588235\n",
      "0.166829643471\n",
      "0.336650164612 0.466691258601\n"
     ]
    }
   ],
   "source": [
    "for i0 in range(3):\n",
    "    print 'celltype', i0\n",
    "    if i0 <2:\n",
    "        temp1 = np.asarray([obj.t_grow for obj in c[10**4:] if obj.celltype==i0])\n",
    "        temp2 = np.asarray([obj.parent.t_grow for obj in c[10**4:] if obj.celltype==i0])\n",
    "    else:\n",
    "        temp1 = np.asarray([obj.t_grow for obj in c[10**4:]])\n",
    "        temp2 = np.asarray([obj.parent.t_grow for obj in c[10**4:]])\n",
    "    print fn(par1)/(fn_1(par1, i0)**0.5*fn_1(par1, 2)**0.5)\n",
    "    print scipy.stats.pearsonr(temp1, temp2)[0]\n",
    "    print fn_1(par1, i0)**0.5, np.std(temp1)"
   ]
  },
  {
   "cell_type": "code",
   "execution_count": 172,
   "metadata": {
    "collapsed": false
   },
   "outputs": [
    {
     "name": "stdout",
     "output_type": "stream",
     "text": [
      "celltype 0\n",
      "0.0271781242553\n",
      "0.206063302186 0.328499263127\n",
      "0.401498960294\n",
      "celltype 1\n",
      "0.038000619671\n",
      "0.24803954687 0.328499263127\n",
      "0.466375094084\n",
      "celltype 2\n",
      "0.301470588235\n",
      "0.0325893719632\n",
      "0.339300282697 0.328499263127\n",
      "0.292386535923\n"
     ]
    }
   ],
   "source": [
    "for i0 in range(3):\n",
    "    print 'celltype', i0\n",
    "    if i0 <2:\n",
    "        temp1 = np.asarray([obj.t_grow for obj in c[2*10**4:] if obj.celltype==i0])\n",
    "        temp2 = np.asarray([obj.parent.t_grow for obj in c[2*10**4:] if obj.celltype==i0])\n",
    "    else:\n",
    "        temp1 = np.asarray([obj.t_grow for obj in c[2*10**4:]])\n",
    "        temp2 = np.asarray([obj.parent.t_grow for obj in c[2*10**4:]])\n",
    "        print fn(par1)/fn_1(par1, 2)\n",
    "    print np.mean(temp1*temp2)-np.mean(temp1)*np.mean(temp2)\n",
    "    print np.std(temp1), np.std(temp2)\n",
    "    print scipy.stats.pearsonr(temp1, temp2)[0]\n",
    "    "
   ]
  },
  {
   "cell_type": "code",
   "execution_count": 181,
   "metadata": {
    "collapsed": false
   },
   "outputs": [
    {
     "name": "stdout",
     "output_type": "stream",
     "text": [
      "celltype 0\n",
      "0.450141946968\n",
      "0.476534668024\n",
      "0.225462487641 0.215053900204\n",
      "celltype 1\n",
      "0.450141946968\n",
      "0.333215917974\n",
      "0.225462487641 0.26215498252\n",
      "celltype 2\n",
      "0.301470588235\n",
      "0.265291676075\n",
      "0.336650164612 0.357785164807\n"
     ]
    }
   ],
   "source": [
    "for i0 in range(3):\n",
    "    print 'celltype', i0\n",
    "    if i0 <2:\n",
    "        temp1 = np.asarray([obj.t_grow for obj in c[10**4:] if obj.celltype==i0])\n",
    "        temp2 = np.asarray([obj.parent.t_grow for obj in c[10**4:] if obj.celltype==i0])\n",
    "    else:\n",
    "        temp1 = np.asarray([obj.t_grow for obj in c[10**4:]])\n",
    "        temp2 = np.asarray([obj.parent.t_grow for obj in c[10**4:]])\n",
    "    print fn(par1)/(fn_1(par1, i0)**0.5*fn_1(par1, 2)**0.5)\n",
    "    print scipy.stats.pearsonr(temp1, temp2)[0]\n",
    "    print fn_1(par1, i0)**0.5, np.std(temp1)"
   ]
  },
  {
   "cell_type": "code",
   "execution_count": 158,
   "metadata": {
    "collapsed": false
   },
   "outputs": [
    {
     "name": "stdout",
     "output_type": "stream",
     "text": [
      "celltype 0\n",
      "0.0369995459834\n",
      "0.0383333333333\n",
      "0.65966269692\n",
      "0.183075047031 0.306369349583\n",
      "0.394190148028\n",
      "0.396551724138\n",
      "celltype 1\n",
      "0.0368593681205\n",
      "0.0383333333333\n",
      "0.658251828089\n",
      "0.182772350652 0.306369349583\n",
      "0.392696704499\n",
      "0.396551724138\n",
      "celltype 2\n",
      "0.036929457052\n",
      "0.0383333333333\n",
      "0.388669480984\n",
      "0.310132419702 0.306369349583\n",
      "0.393443426263\n",
      "0.396551724138\n"
     ]
    }
   ],
   "source": [
    "for i0 in range(3):\n",
    "    if i0 <2:\n",
    "        temp1 = np.asarray([obj.t_grow for obj in c[10**4:] if obj.celltype==i0])\n",
    "        temp2 = np.asarray([obj.parent.t_grow for obj in c[10**4:] if obj.celltype==i0])\n",
    "    else:\n",
    "        temp1 = np.asarray([obj.t_grow for obj in c[10**4:]])\n",
    "        temp2 = np.asarray([obj.parent.t_grow for obj in c[10**4:]])\n",
    "    print 'celltype', i0\n",
    "    print np.mean(temp1*temp2)-np.mean(temp1)*np.mean(temp2)\n",
    "    print fn(par1)\n",
    "    print scipy.stats.pearsonr(temp1, temp2)[0]\n",
    "    print np.std(temp1), np.std(temp2)\n",
    "    print (np.mean(temp1*temp2)-np.mean(temp1)*np.mean(temp2))/(np.std(temp2)*np.std(temp2))\n",
    "    print fn(par1)/fn_1(par1)"
   ]
  },
  {
   "cell_type": "code",
   "execution_count": 11,
   "metadata": {
    "collapsed": true
   },
   "outputs": [],
   "source": [
    "td = [np.log(2), np.log(2)]\n",
    "td_std = [0.15, 0.15]\n",
    "# td = [1.0, 1.0]\n",
    "# td_std = [0.1, 0.1]\n",
    "\n",
    "# this script uses a simple adder model\n",
    "\n",
    "par1 = {'nstep': 1000, 'dt':0.01, 'td': td, 'td_std': td_std, 'v_init':1.0, 'modeltype':1, 'delta':1.0, \n",
    "        'lambda_std':None}\n",
    "# par1['lambda'] = scipy.optimize.fsolve(g.fn_1, x0=np.log(2.0) / np.mean(td), args=(par1['td'][0], par1['td'][1]))[0]\n",
    "# temp = 0.5/(np.exp(par1['lambda']*par1['td'][1])-1)\n",
    "# par1['r'] = temp/(1-temp)\n",
    "par1['r']=0.5\n",
    "par1['lambda']=1.0"
   ]
  },
  {
   "cell_type": "code",
   "execution_count": 12,
   "metadata": {
    "collapsed": true
   },
   "outputs": [],
   "source": [
    "init_pop = g.starting_popn(par1)\n",
    "c,obs = g.discr_time_1(par1, init_pop)"
   ]
  },
  {
   "cell_type": "code",
   "execution_count": 13,
   "metadata": {
    "collapsed": false
   },
   "outputs": [
    {
     "name": "stdout",
     "output_type": "stream",
     "text": [
      "0.999913401763\n"
     ]
    }
   ],
   "source": [
    "temp2 = scipy.stats.linregress(obs[1][400:], np.log(obs[7][400:]))\n",
    "print temp2[0]"
   ]
  },
  {
   "cell_type": "code",
   "execution_count": 7,
   "metadata": {
    "collapsed": false
   },
   "outputs": [
    {
     "name": "stdout",
     "output_type": "stream",
     "text": [
      "celltype = 0\n",
      "0.102713945227 parent child\n",
      "celltype = 1\n",
      "0.109175927417 parent child\n",
      "0.134166006458 mother daughter same generation\n",
      "0.102713945227 mother daughter diff generation\n"
     ]
    }
   ],
   "source": [
    "for i0 in range(2):\n",
    "    print 'celltype =', i0\n",
    "    temp1 = [obj.t_grow for obj in c[10**4:] if obj.celltype==i0]\n",
    "    temp2 = [obj.parent.t_grow for obj in c[10**4:] if obj.celltype==i0]\n",
    "    vals = scipy.stats.linregress(temp1, temp2)\n",
    "    print vals[2]*np.absolute(vals[2]), 'parent child'\n",
    "    if i0==1:\n",
    "        temp3 = [obj.parent_current.t_grow for obj in c[10**4:] if obj.celltype == i0]\n",
    "        vals = scipy.stats.linregress(temp1, temp3)\n",
    "        print vals[2]*np.absolute(vals[2]), 'mother daughter same generation'\n",
    "        vals = scipy.stats.linregress(temp2, temp3)\n",
    "        print vals[2]*np.absolute(vals[2]), 'mother daughter diff generation'"
   ]
  },
  {
   "cell_type": "code",
   "execution_count": 77,
   "metadata": {
    "collapsed": true
   },
   "outputs": [],
   "source": [
    "td = [1.858, 3.353]\n",
    "# td_std = [0.4727, 0.9214]\n",
    "# td = [1.0, 1.0]\n",
    "td_std = [0.001, 0.001]\n",
    "\n",
    "# this script uses a simple adder model\n",
    "\n",
    "\n",
    "par1 = {'nstep': 1000, 'dt':0.01, 'td': td, 'td_std': td_std, 'v_init':1.0, 'modeltype':1, 'delta':1.0, \n",
    "        'lambda_std':0.2}\n",
    "\n",
    "# defining r and lambda to approximate the same average division times for daughters and mothers.\n",
    "\n",
    "par1['lambda'] = scipy.optimize.fsolve(g.fn_1, x0=np.log(2.0) / np.mean(td), args=(par1['td'][0], par1['td'][1]))[0]\n",
    "temp = 0.5/(np.exp(par1['lambda']*par1['td'][1])-1)\n",
    "par1['r'] = temp/(1-temp)\n",
    "# par1['r'] = 0.6\n",
    "# par1['lambda'] = 1.0"
   ]
  },
  {
   "cell_type": "code",
   "execution_count": 78,
   "metadata": {
    "collapsed": true
   },
   "outputs": [],
   "source": [
    "init_pop = g.starting_popn(par1)\n",
    "c,obs = g.discr_time_1(par1, init_pop)"
   ]
  },
  {
   "cell_type": "code",
   "execution_count": 79,
   "metadata": {
    "collapsed": false
   },
   "outputs": [
    {
     "name": "stdout",
     "output_type": "stream",
     "text": [
      "0.972047886052\n",
      "0.972370898401\n"
     ]
    }
   ],
   "source": [
    "temp2 = scipy.stats.linregress(obs[1][400:], np.log(obs[7][400:]))\n",
    "print temp2[0]/par1['lambda']\n",
    "temp2 = scipy.stats.linregress(obs[1][400:], np.log(obs[4][400:]))\n",
    "print temp2[0]/par1['lambda']"
   ]
  },
  {
   "cell_type": "code",
   "execution_count": 22,
   "metadata": {
    "collapsed": false
   },
   "outputs": [
    {
     "name": "stdout",
     "output_type": "stream",
     "text": [
      "0.903258027613\n"
     ]
    }
   ],
   "source": [
    "temp2 = scipy.stats.linregress(obs[1][400:], np.log(obs[7][400:]))\n",
    "print temp2[0]/par1['lambda']"
   ]
  },
  {
   "cell_type": "code",
   "execution_count": 76,
   "metadata": {
    "collapsed": false
   },
   "outputs": [
    {
     "name": "stdout",
     "output_type": "stream",
     "text": [
      "celltype = 0\n",
      "1.9357189171\n",
      "0.0100091144743 parent child 0.100045561992\n",
      "celltype = 1\n",
      "3.46974048927\n",
      "0.00776618564654 parent child 0.088125964656\n",
      "0.117158704376 mother daughter same generation 0.342284537156\n",
      "0.0100091144743 mother daughter diff generation 0.100045561992\n"
     ]
    }
   ],
   "source": [
    "for i0 in range(2):\n",
    "    print 'celltype =', i0\n",
    "    temp1 = [obj.t_grow for obj in c[10**4:] if obj.celltype==i0]\n",
    "    print np.mean(temp1)\n",
    "    temp2 = [obj.parent.t_grow for obj in c[10**4:] if obj.celltype==i0]\n",
    "    vals = scipy.stats.linregress(temp1, temp2)\n",
    "    print vals[2]*np.absolute(vals[2]), 'parent child', scipy.stats.pearsonr(temp1, temp2)[0]\n",
    "    if i0==1:\n",
    "        temp3 = [obj.parent_current.t_grow for obj in c[10**4:] if obj.celltype == i0]\n",
    "        vals = scipy.stats.linregress(temp1, temp3)\n",
    "        print vals[2]*np.absolute(vals[2]), 'mother daughter same generation', scipy.stats.pearsonr(temp1, temp3)[0]\n",
    "        vals = scipy.stats.linregress(temp2, temp3)\n",
    "        print vals[2]*np.absolute(vals[2]), 'mother daughter diff generation', scipy.stats.pearsonr(temp2, temp3)[0]"
   ]
  },
  {
   "cell_type": "code",
   "execution_count": null,
   "metadata": {
    "collapsed": true
   },
   "outputs": [],
   "source": []
  }
 ],
 "metadata": {
  "kernelspec": {
   "display_name": "Python [conda root]",
   "language": "python",
   "name": "conda-root-py"
  },
  "language_info": {
   "codemirror_mode": {
    "name": "ipython",
    "version": 2
   },
   "file_extension": ".py",
   "mimetype": "text/x-python",
   "name": "python",
   "nbconvert_exporter": "python",
   "pygments_lexer": "ipython2",
   "version": "2.7.13"
  }
 },
 "nbformat": 4,
 "nbformat_minor": 2
}
